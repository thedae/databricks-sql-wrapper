{
 "cells": [
  {
   "cell_type": "code",
   "execution_count": 0,
   "metadata": {
    "application/vnd.databricks.v1+cell": {
     "cellMetadata": {
      "byteLimit": 2048000,
      "rowLimit": 10000
     },
     "inputWidgets": {},
     "nuid": "2f664a0f-9652-4b0b-b3ab-d6ee6ebe7b53",
     "showTitle": false,
     "title": ""
    }
   },
   "outputs": [
    {
     "output_type": "stream",
     "name": "stdout",
     "output_type": "stream",
     "text": [
      "+---+\n|  1|\n+---+\n|  1|\n+---+\n\n"
     ]
    }
   ],
   "source": [
    "spark.sql(dbutils.widgets.get('sql_statement'))"
   ]
  }
 ],
 "metadata": {
  "application/vnd.databricks.v1+notebook": {
   "dashboards": [],
   "language": "python",
   "notebookMetadata": {
    "pythonIndentUnit": 4
   },
   "notebookName": "sql-wrapper",
   "widgets": {
    "sql_statement": {
     "currentValue": "select 1",
     "nuid": "87ad604d-b592-41cf-9977-eb9331ae8821",
     "widgetInfo": {
      "widgetType": "text",
      "defaultValue": "select 1",
      "label": "",
      "name": "sql_statement",
      "options": {
       "widgetType": "text",
       "autoCreated": false,
       "validationRegex": null
      }
     }
    }
   }
  }
 },
 "nbformat": 4,
 "nbformat_minor": 0
}
